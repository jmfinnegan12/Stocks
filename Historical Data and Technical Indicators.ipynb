{
 "cells": [
  {
   "cell_type": "markdown",
   "metadata": {},
   "source": [
    "# Stock Strategy\n",
    "### Based on 5 years of data obtained from yahoo finance"
   ]
  },
  {
   "cell_type": "markdown",
   "metadata": {},
   "source": [
    "#### Sources\n",
    "\n",
    "- https://github.com/kunalkini15/technical_indicators_lib\n",
    "- https://github.com/Crypto-toolbox/pandas-technical-indicators/blob/master/technical_indicators.py\n",
    "- https://www.investopedia.com/"
   ]
  },
  {
   "cell_type": "markdown",
   "metadata": {},
   "source": [
    "### To do\n",
    "\n",
    "- create a function that modifies and renames moving average columns\n",
    "- create a function that takes a df and any technical indicator as arugments and returns the modified df\n",
    "- redo the api call for date ranges"
   ]
  },
  {
   "cell_type": "markdown",
   "metadata": {},
   "source": [
    "_____"
   ]
  },
  {
   "cell_type": "markdown",
   "metadata": {},
   "source": [
    "## Import modules"
   ]
  },
  {
   "cell_type": "code",
   "execution_count": 1,
   "metadata": {},
   "outputs": [],
   "source": [
    "import pandas as pd\n",
    "import numpy as np\n",
    "import yfinance as yf\n",
    "import matplotlib.pyplot as plt\n",
    "import plotly.graph_objects as go\n",
    "from datetime import datetime, date\n",
    "import seaborn as sns"
   ]
  },
  {
   "cell_type": "code",
   "execution_count": 6,
   "metadata": {},
   "outputs": [],
   "source": [
    "from technical_indicators.library import indicators"
   ]
  },
  {
   "cell_type": "code",
   "execution_count": 5,
   "metadata": {},
   "outputs": [],
   "source": [
    "from ti_lib.ti_lib.indicators import (\n",
    "    ADI, ATR, BollingerBands, CCI, CMF, CHO, CHV, DC, DPO, EMV, EMA, FI, KC, KST, MI, MED, MOM,\n",
    "    MFI, MACD, NVI, OBV, PVT, PC, PO, ROC, ROCV, RSI, SMA, VLT, StochasticKAndD,\n",
    "    Trix, TR, TSI, TYP, VHF, VO, WCL)\n",
    "\n",
    "adi = ADI()\n",
    "atr = ATR()\n",
    "bb = BollingerBands()\n",
    "cci = CCI()\n",
    "cmf = CMF()\n",
    "cho = CHO()\n",
    "chv = CHV()\n",
    "dc = DC()\n",
    "dpo = DPO()\n",
    "emv = EMV()\n",
    "ema = EMA()\n",
    "fi = FI()\n",
    "kc = KC()\n",
    "kst = KST()\n",
    "mi = MI()\n",
    "mem = MED()\n",
    "mom = MOM()\n",
    "mfi = MFI()\n",
    "macd = MACD()\n",
    "nvi = NVI()\n",
    "obv = OBV()\n",
    "pvt = PVT()\n",
    "pc = PC()\n",
    "po = PO()\n",
    "roc = ROC()\n",
    "rocv = ROCV()\n",
    "rsi = RSI()\n",
    "sma = SMA()\n",
    "vlt = VLT()\n",
    "stochastic_k_and_d = StochasticKAndD()\n",
    "trix = Trix()\n",
    "tr = TR()\n",
    "tsi = TSI()\n",
    "typ = TYP()\n",
    "vhf = VHF()\n",
    "vo = VO()\n",
    "wcl = WCL()"
   ]
  },
  {
   "cell_type": "markdown",
   "metadata": {},
   "source": [
    "## Get data from YahooFinance API"
   ]
  },
  {
   "cell_type": "code",
   "execution_count": null,
   "metadata": {},
   "outputs": [],
   "source": [
    "def get_yf_data(ticker, start='2018-01-01', end=date.today()):\n",
    "    '''\n",
    "    Calls Yahoo Finance API and retrieves historical data for given ticker and time period\n",
    "    \n",
    "    Args:\n",
    "        ticker(string): string, stock ticker\n",
    "        start (string): start date, default 2018-01-01\n",
    "        end (datetime object): end date, default today's date\n",
    "        \n",
    "    Returns:\n",
    "        pandas.DataFrame: new pandas dataframe with the OHLC data for the given ticker and time period\n",
    "    '''\n",
    "    # get historical data\n",
    "    temp = yf.Ticker(ticker)\n",
    "    df = temp.history(start=start, end=end)\n",
    "    # make columns lowercase (compatibility with technical_indicators_lib)\n",
    "    df.columns = map(str.lower, df.columns)\n",
    "    \n",
    "    return df"
   ]
  },
  {
   "cell_type": "markdown",
   "metadata": {},
   "source": [
    "___"
   ]
  },
  {
   "cell_type": "markdown",
   "metadata": {},
   "source": [
    "## Add Technical Indicators to df\n"
   ]
  },
  {
   "cell_type": "markdown",
   "metadata": {},
   "source": [
    "#### Moving Averages\n",
    "- includes several commonly used ranges and renames columns appropriately"
   ]
  },
  {
   "cell_type": "code",
   "execution_count": null,
   "metadata": {},
   "outputs": [],
   "source": [
    "def calc_moving_averages(df):\n",
    "    '''\n",
    "    Adds select moving averages as columns to the dataframe\n",
    "    \n",
    "    Args:\n",
    "        df(pandas.DataFrame): OHLC dataframe retrieved from yahoofinanace api\n",
    "        \n",
    "    Returns:\n",
    "        pandas.DataFrame: modified pandas dataframe with select moving averages\n",
    "    '''\n",
    "    \n",
    "    # suppress pandas copy warning\n",
    "    df.is_copy = False\n",
    "    \n",
    "    # calculate select moving averages\n",
    "    d = [5, 8, 10, 13, 20, 21, 34, 50, 55, 89, 100]\n",
    "    for day in d:\n",
    "        df = sma.get_value_df(df, time_period=day)\n",
    "        col_name = 'MA_' + str(day) + 'd'\n",
    "        df.rename(columns = {'SMA': col_name}, inplace=True)\n",
    "        \n",
    "    # calculate exponential moving averages\n",
    "    d_ema = [5, 12, 20, 26, 50, 200]\n",
    "    for day in d_ema:\n",
    "        df = ema.get_value_df(df, time_period=day)\n",
    "        col_name = 'EMA_' + str(day) + 'd'\n",
    "        df.rename(columns = {'EMA': col_name}, inplace=True)\n",
    "\n",
    "    return df"
   ]
  },
  {
   "cell_type": "markdown",
   "metadata": {},
   "source": [
    "#### Other indicators\n",
    "- function to add any indicator from the library to the df"
   ]
  },
  {
   "cell_type": "code",
   "execution_count": null,
   "metadata": {},
   "outputs": [],
   "source": [
    "def calc_indicator(df, indicator):\n",
    "    '''\n",
    "    Calculates the given technical indicator and appends the df with its values\n",
    "    \n",
    "    Args:\n",
    "        df (pandas.DataFrame): OHLC dataframe\n",
    "        indicator (function): function from tecnical_indicators_lib\n",
    "        \n",
    "    Returns:\n",
    "        pandas.DataFrame: modified dataframe with the specified indicator\n",
    "    '''\n",
    "    \n",
    "    # suppress pandas copy warning\n",
    "    df.is_copy = False\n",
    "    \n",
    "    # get indicator value with dataframe method\n",
    "    df = indicator.get_value_df(df)\n",
    "    \n",
    "    return df"
   ]
  },
  {
   "cell_type": "code",
   "execution_count": null,
   "metadata": {},
   "outputs": [],
   "source": [
    "indicators_list = [adi, atr, bb, cci, cmf, cho, chv, dc, dpo, emv, ema, kc, kst, mi, mem, mom, macd, nvi, obv, \n",
    "                   pvt, roc, rocv, rsi, sma, vlt, stochastic_k_and_d, trix, tr, tsi, typ, vhf, wcl]\n",
    "\n",
    "# fi, mfi, pc, po, vo"
   ]
  },
  {
   "cell_type": "code",
   "execution_count": null,
   "metadata": {},
   "outputs": [],
   "source": [
    "print(fi.info())"
   ]
  },
  {
   "cell_type": "code",
   "execution_count": null,
   "metadata": {},
   "outputs": [],
   "source": [
    "for indicator in indicators_list:\n",
    "    calc_indicator(QQQ, indicator)"
   ]
  },
  {
   "cell_type": "code",
   "execution_count": null,
   "metadata": {
    "scrolled": true
   },
   "outputs": [],
   "source": [
    "QQQ.head()"
   ]
  },
  {
   "cell_type": "markdown",
   "metadata": {},
   "source": [
    "### Candle Charts"
   ]
  },
  {
   "cell_type": "code",
   "execution_count": null,
   "metadata": {},
   "outputs": [],
   "source": [
    "def candle_plot(df):\n",
    "    fig = go.Figure(data=[go.Candlestick(x=df.index,\n",
    "                                        open=df['open'],\n",
    "                                        high=df['high'],\n",
    "                                        low=df['low'],\n",
    "                                        close=df['close'])])\n",
    "    fig.show()"
   ]
  },
  {
   "cell_type": "code",
   "execution_count": 12,
   "metadata": {},
   "outputs": [
    {
     "data": {
      "text/html": [
       "<div>\n",
       "<style scoped>\n",
       "    .dataframe tbody tr th:only-of-type {\n",
       "        vertical-align: middle;\n",
       "    }\n",
       "\n",
       "    .dataframe tbody tr th {\n",
       "        vertical-align: top;\n",
       "    }\n",
       "\n",
       "    .dataframe thead th {\n",
       "        text-align: right;\n",
       "    }\n",
       "</style>\n",
       "<table border=\"1\" class=\"dataframe\">\n",
       "  <thead>\n",
       "    <tr style=\"text-align: right;\">\n",
       "      <th></th>\n",
       "      <th>open</th>\n",
       "      <th>high</th>\n",
       "      <th>low</th>\n",
       "      <th>close</th>\n",
       "      <th>volume</th>\n",
       "      <th>dividends</th>\n",
       "      <th>stock splits</th>\n",
       "    </tr>\n",
       "    <tr>\n",
       "      <th>Date</th>\n",
       "      <th></th>\n",
       "      <th></th>\n",
       "      <th></th>\n",
       "      <th></th>\n",
       "      <th></th>\n",
       "      <th></th>\n",
       "      <th></th>\n",
       "    </tr>\n",
       "  </thead>\n",
       "  <tbody>\n",
       "    <tr>\n",
       "      <th>2018-01-01</th>\n",
       "      <td>14112.200195</td>\n",
       "      <td>14112.200195</td>\n",
       "      <td>13154.700195</td>\n",
       "      <td>13657.200195</td>\n",
       "      <td>10291200000</td>\n",
       "      <td>0</td>\n",
       "      <td>0</td>\n",
       "    </tr>\n",
       "    <tr>\n",
       "      <th>2018-01-02</th>\n",
       "      <td>13625.000000</td>\n",
       "      <td>15444.599609</td>\n",
       "      <td>13163.599609</td>\n",
       "      <td>14982.099609</td>\n",
       "      <td>16846600192</td>\n",
       "      <td>0</td>\n",
       "      <td>0</td>\n",
       "    </tr>\n",
       "    <tr>\n",
       "      <th>2018-01-03</th>\n",
       "      <td>14978.200195</td>\n",
       "      <td>15572.799805</td>\n",
       "      <td>14844.500000</td>\n",
       "      <td>15201.000000</td>\n",
       "      <td>16871900160</td>\n",
       "      <td>0</td>\n",
       "      <td>0</td>\n",
       "    </tr>\n",
       "    <tr>\n",
       "      <th>2018-01-04</th>\n",
       "      <td>15270.700195</td>\n",
       "      <td>15739.700195</td>\n",
       "      <td>14522.200195</td>\n",
       "      <td>15599.200195</td>\n",
       "      <td>21783199744</td>\n",
       "      <td>0</td>\n",
       "      <td>0</td>\n",
       "    </tr>\n",
       "    <tr>\n",
       "      <th>2018-01-05</th>\n",
       "      <td>15477.200195</td>\n",
       "      <td>17705.199219</td>\n",
       "      <td>15202.799805</td>\n",
       "      <td>17429.500000</td>\n",
       "      <td>23840899072</td>\n",
       "      <td>0</td>\n",
       "      <td>0</td>\n",
       "    </tr>\n",
       "  </tbody>\n",
       "</table>\n",
       "</div>"
      ],
      "text/plain": [
       "                    open          high           low         close  \\\n",
       "Date                                                                 \n",
       "2018-01-01  14112.200195  14112.200195  13154.700195  13657.200195   \n",
       "2018-01-02  13625.000000  15444.599609  13163.599609  14982.099609   \n",
       "2018-01-03  14978.200195  15572.799805  14844.500000  15201.000000   \n",
       "2018-01-04  15270.700195  15739.700195  14522.200195  15599.200195   \n",
       "2018-01-05  15477.200195  17705.199219  15202.799805  17429.500000   \n",
       "\n",
       "                 volume  dividends  stock splits  \n",
       "Date                                              \n",
       "2018-01-01  10291200000          0             0  \n",
       "2018-01-02  16846600192          0             0  \n",
       "2018-01-03  16871900160          0             0  \n",
       "2018-01-04  21783199744          0             0  \n",
       "2018-01-05  23840899072          0             0  "
      ]
     },
     "execution_count": 12,
     "metadata": {},
     "output_type": "execute_result"
    }
   ],
   "source": [
    "BTC.head()"
   ]
  },
  {
   "cell_type": "code",
   "execution_count": null,
   "metadata": {},
   "outputs": [],
   "source": [
    "candle_plot(BTC)"
   ]
  },
  {
   "cell_type": "code",
   "execution_count": null,
   "metadata": {},
   "outputs": [],
   "source": []
  }
 ],
 "metadata": {
  "kernelspec": {
   "display_name": "finance",
   "language": "python",
   "name": "finance"
  },
  "language_info": {
   "codemirror_mode": {
    "name": "ipython",
    "version": 3
   },
   "file_extension": ".py",
   "mimetype": "text/x-python",
   "name": "python",
   "nbconvert_exporter": "python",
   "pygments_lexer": "ipython3",
   "version": "3.7.6"
  }
 },
 "nbformat": 4,
 "nbformat_minor": 4
}
