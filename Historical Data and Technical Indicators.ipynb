{
 "cells": [
  {
   "cell_type": "markdown",
   "metadata": {},
   "source": [
    "# Stock Strategy\n",
    "### Based on 5 years of data obtained from yahoo finance"
   ]
  },
  {
   "cell_type": "markdown",
   "metadata": {},
   "source": [
    "#### Sources\n",
    "\n",
    "- https://github.com/kunalkini15/technical_indicators_lib\n",
    "- https://github.com/Crypto-toolbox/pandas-technical-indicators/blob/master/technical_indicators.py\n",
    "- https://www.investopedia.com/"
   ]
  },
  {
   "cell_type": "markdown",
   "metadata": {},
   "source": [
    "### To do\n",
    "\n",
    "- create a function that modifies and renames moving average columns\n",
    "- create a function that takes a df and any technical indicator as arugments and returns the modified df\n",
    "- redo the api call for date ranges"
   ]
  },
  {
   "cell_type": "markdown",
   "metadata": {},
   "source": [
    "_____"
   ]
  },
  {
   "cell_type": "markdown",
   "metadata": {},
   "source": [
    "## Import modules"
   ]
  },
  {
   "cell_type": "code",
   "execution_count": 1,
   "metadata": {},
   "outputs": [],
   "source": [
    "import pandas as pd\n",
    "import numpy as np\n",
    "import yfinance as yf\n",
    "import matplotlib.pyplot as plt\n",
    "import plotly.graph_objects as go\n",
    "from datetime import datetime, date\n",
    "import seaborn as sns"
   ]
  },
  {
   "cell_type": "code",
   "execution_count": 4,
   "metadata": {
    "scrolled": true
   },
   "outputs": [
    {
     "ename": "ModuleNotFoundError",
     "evalue": "No module named 'indicators'",
     "output_type": "error",
     "traceback": [
      "\u001b[1;31m---------------------------------------------------------------------------\u001b[0m",
      "\u001b[1;31mModuleNotFoundError\u001b[0m                       Traceback (most recent call last)",
      "\u001b[1;32m<ipython-input-4-4f6499282dd8>\u001b[0m in \u001b[0;36m<module>\u001b[1;34m\u001b[0m\n\u001b[1;32m----> 1\u001b[1;33m \u001b[1;32mfrom\u001b[0m \u001b[0mtechnical_indicators\u001b[0m\u001b[1;33m.\u001b[0m\u001b[0mlibrary\u001b[0m \u001b[1;32mimport\u001b[0m \u001b[0mindicators\u001b[0m\u001b[1;33m\u001b[0m\u001b[1;33m\u001b[0m\u001b[0m\n\u001b[0m",
      "\u001b[1;32m~\\OneDrive\\Documents\\Personal\\Data Science\\Projects\\Stocks\\technical_indicators\\library\\__init__.py\u001b[0m in \u001b[0;36m<module>\u001b[1;34m\u001b[0m\n\u001b[1;32m----> 1\u001b[1;33m from indicators import (\n\u001b[0m\u001b[0;32m      2\u001b[0m     \u001b[0mADI\u001b[0m\u001b[1;33m,\u001b[0m \u001b[0mATR\u001b[0m\u001b[1;33m,\u001b[0m \u001b[0mBollingerBands\u001b[0m\u001b[1;33m,\u001b[0m \u001b[0mCCI\u001b[0m\u001b[1;33m,\u001b[0m \u001b[0mCMF\u001b[0m\u001b[1;33m,\u001b[0m \u001b[0mCHO\u001b[0m\u001b[1;33m,\u001b[0m \u001b[0mCHV\u001b[0m\u001b[1;33m,\u001b[0m \u001b[0mDC\u001b[0m\u001b[1;33m,\u001b[0m \u001b[0mDPO\u001b[0m\u001b[1;33m,\u001b[0m \u001b[0mEMV\u001b[0m\u001b[1;33m,\u001b[0m \u001b[0mEMA\u001b[0m\u001b[1;33m,\u001b[0m \u001b[0mFI\u001b[0m\u001b[1;33m,\u001b[0m \u001b[0mKC\u001b[0m\u001b[1;33m,\u001b[0m \u001b[0mKST\u001b[0m\u001b[1;33m,\u001b[0m \u001b[0mMI\u001b[0m\u001b[1;33m,\u001b[0m \u001b[0mMED\u001b[0m\u001b[1;33m,\u001b[0m \u001b[0mMOM\u001b[0m\u001b[1;33m,\u001b[0m\u001b[1;33m\u001b[0m\u001b[1;33m\u001b[0m\u001b[0m\n\u001b[0;32m      3\u001b[0m     \u001b[0mMFI\u001b[0m\u001b[1;33m,\u001b[0m \u001b[0mMACD\u001b[0m\u001b[1;33m,\u001b[0m \u001b[0mNVI\u001b[0m\u001b[1;33m,\u001b[0m \u001b[0mOBV\u001b[0m\u001b[1;33m,\u001b[0m \u001b[0mPVT\u001b[0m\u001b[1;33m,\u001b[0m \u001b[0mPC\u001b[0m\u001b[1;33m,\u001b[0m \u001b[0mPO\u001b[0m\u001b[1;33m,\u001b[0m \u001b[0mROC\u001b[0m\u001b[1;33m,\u001b[0m \u001b[0mROCV\u001b[0m\u001b[1;33m,\u001b[0m \u001b[0mRSI\u001b[0m\u001b[1;33m,\u001b[0m \u001b[0mSMA\u001b[0m\u001b[1;33m,\u001b[0m \u001b[0mVLT\u001b[0m\u001b[1;33m,\u001b[0m \u001b[0mStochasticKAndD\u001b[0m\u001b[1;33m,\u001b[0m\u001b[1;33m\u001b[0m\u001b[1;33m\u001b[0m\u001b[0m\n\u001b[0;32m      4\u001b[0m     \u001b[0mTrix\u001b[0m\u001b[1;33m,\u001b[0m \u001b[0mTR\u001b[0m\u001b[1;33m,\u001b[0m \u001b[0mTSI\u001b[0m\u001b[1;33m,\u001b[0m \u001b[0mTYP\u001b[0m\u001b[1;33m,\u001b[0m \u001b[0mVHF\u001b[0m\u001b[1;33m,\u001b[0m \u001b[0mVO\u001b[0m\u001b[1;33m,\u001b[0m \u001b[0mWCL\u001b[0m\u001b[1;33m\u001b[0m\u001b[1;33m\u001b[0m\u001b[0m\n\u001b[0;32m      5\u001b[0m )\n",
      "\u001b[1;31mModuleNotFoundError\u001b[0m: No module named 'indicators'"
     ]
    }
   ],
   "source": [
    "from technical_indicators.library import indicators"
   ]
  },
  {
   "cell_type": "markdown",
   "metadata": {},
   "source": [
    "## Get data from YahooFinance API"
   ]
  },
  {
   "cell_type": "code",
   "execution_count": null,
   "metadata": {},
   "outputs": [],
   "source": [
    "def get_yf_data(ticker, start='2018-01-01', end=date.today()):\n",
    "    '''\n",
    "    Calls Yahoo Finance API and retrieves historical data for given ticker and time period\n",
    "    \n",
    "    Args:\n",
    "        ticker(string): string, stock ticker\n",
    "        start (string): start date, default 2018-01-01\n",
    "        end (datetime object): end date, default today's date\n",
    "        \n",
    "    Returns:\n",
    "        pandas.DataFrame: new pandas dataframe with the OHLC data for the given ticker and time period\n",
    "    '''\n",
    "    # get historical data\n",
    "    temp = yf.Ticker(ticker)\n",
    "    df = temp.history(start=start, end=end)\n",
    "    # make columns lowercase (compatibility with technical_indicators_lib)\n",
    "    df.columns = map(str.lower, df.columns)\n",
    "    \n",
    "    return df"
   ]
  },
  {
   "cell_type": "markdown",
   "metadata": {},
   "source": [
    "___"
   ]
  },
  {
   "cell_type": "markdown",
   "metadata": {},
   "source": [
    "## Add Technical Indicators to df\n"
   ]
  },
  {
   "cell_type": "markdown",
   "metadata": {},
   "source": [
    "#### Moving Averages\n",
    "- includes several commonly used ranges and renames columns appropriately"
   ]
  },
  {
   "cell_type": "code",
   "execution_count": null,
   "metadata": {},
   "outputs": [],
   "source": [
    "def calc_moving_averages(df):\n",
    "    '''\n",
    "    Adds select moving averages as columns to the dataframe\n",
    "    \n",
    "    Args:\n",
    "        df(pandas.DataFrame): OHLC dataframe retrieved from yahoofinanace api\n",
    "        \n",
    "    Returns:\n",
    "        pandas.DataFrame: modified pandas dataframe with select moving averages\n",
    "    '''\n",
    "    \n",
    "    # suppress pandas copy warning\n",
    "    df.is_copy = False\n",
    "    \n",
    "    # calculate select moving averages\n",
    "    d = [5, 8, 10, 13, 20, 21, 34, 50, 55, 89, 100]\n",
    "    for day in d:\n",
    "        df = sma.get_value_df(df, time_period=day)\n",
    "        col_name = 'MA_' + str(day) + 'd'\n",
    "        df.rename(columns = {'SMA': col_name}, inplace=True)\n",
    "        \n",
    "    # calculate exponential moving averages\n",
    "    d_ema = [5, 12, 20, 26, 50, 200]\n",
    "    for day in d_ema:\n",
    "        df = ema.get_value_df(df, time_period=day)\n",
    "        col_name = 'EMA_' + str(day) + 'd'\n",
    "        df.rename(columns = {'EMA': col_name}, inplace=True)\n",
    "\n",
    "    return df"
   ]
  },
  {
   "cell_type": "markdown",
   "metadata": {},
   "source": [
    "#### Other indicators\n",
    "- function to add any indicator from the library to the df"
   ]
  },
  {
   "cell_type": "code",
   "execution_count": null,
   "metadata": {},
   "outputs": [],
   "source": [
    "def calc_indicator(df, indicator):\n",
    "    '''\n",
    "    Calculates the given technical indicator and appends the df with its values\n",
    "    \n",
    "    Args:\n",
    "        df (pandas.DataFrame): OHLC dataframe\n",
    "        indicator (function): function from tecnical_indicators_lib\n",
    "        \n",
    "    Returns:\n",
    "        pandas.DataFrame: modified dataframe with the specified indicator\n",
    "    '''\n",
    "    \n",
    "    # suppress pandas copy warning\n",
    "    df.is_copy = False\n",
    "    \n",
    "    # get indicator value with dataframe method\n",
    "    df = indicator.get_value_df(df)\n",
    "    \n",
    "    return df"
   ]
  },
  {
   "cell_type": "code",
   "execution_count": null,
   "metadata": {},
   "outputs": [],
   "source": [
    "indicators_list = [adi, atr, bb, cci, cmf, cho, chv, dc, dpo, emv, ema, kc, kst, mi, mem, mom, macd, nvi, obv, \n",
    "                   pvt, roc, rocv, rsi, sma, vlt, stochastic_k_and_d, trix, tr, tsi, typ, vhf, wcl]\n",
    "\n",
    "# fi, mfi, pc, po, vo"
   ]
  },
  {
   "cell_type": "code",
   "execution_count": null,
   "metadata": {},
   "outputs": [],
   "source": [
    "print(fi.info())"
   ]
  },
  {
   "cell_type": "code",
   "execution_count": null,
   "metadata": {},
   "outputs": [],
   "source": [
    "for indicator in indicators_list:\n",
    "    calc_indicator(QQQ, indicator)"
   ]
  },
  {
   "cell_type": "code",
   "execution_count": null,
   "metadata": {
    "scrolled": true
   },
   "outputs": [],
   "source": [
    "QQQ.head()"
   ]
  },
  {
   "cell_type": "markdown",
   "metadata": {},
   "source": [
    "### Candle Charts"
   ]
  },
  {
   "cell_type": "code",
   "execution_count": null,
   "metadata": {},
   "outputs": [],
   "source": [
    "def candle_plot(df):\n",
    "    fig = go.Figure(data=[go.Candlestick(x=df.index,\n",
    "                                        open=df['open'],\n",
    "                                        high=df['high'],\n",
    "                                        low=df['low'],\n",
    "                                        close=df['close'])])\n",
    "    fig.show()"
   ]
  },
  {
   "cell_type": "code",
   "execution_count": null,
   "metadata": {},
   "outputs": [],
   "source": [
    "BTC.head()"
   ]
  },
  {
   "cell_type": "code",
   "execution_count": null,
   "metadata": {},
   "outputs": [],
   "source": [
    "candle_plot(BTC)"
   ]
  },
  {
   "cell_type": "code",
   "execution_count": null,
   "metadata": {},
   "outputs": [],
   "source": []
  }
 ],
 "metadata": {
  "kernelspec": {
   "display_name": "finance",
   "language": "python",
   "name": "finance"
  },
  "language_info": {
   "codemirror_mode": {
    "name": "ipython",
    "version": 3
   },
   "file_extension": ".py",
   "mimetype": "text/x-python",
   "name": "python",
   "nbconvert_exporter": "python",
   "pygments_lexer": "ipython3",
   "version": "3.7.6"
  }
 },
 "nbformat": 4,
 "nbformat_minor": 4
}
